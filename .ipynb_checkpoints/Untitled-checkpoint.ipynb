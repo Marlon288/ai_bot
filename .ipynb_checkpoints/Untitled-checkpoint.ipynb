{
 "cells": [
  {
   "cell_type": "code",
   "execution_count": 59,
   "id": "e98429ad",
   "metadata": {},
   "outputs": [],
   "source": [
    "import re\n",
    "\n",
    "searchArtist = \"trettmann\"\n",
    "featuresAndProducers = set([searchArtist])\n"
   ]
  },
  {
   "cell_type": "code",
   "execution_count": 73,
   "id": "6680c6fd",
   "metadata": {},
   "outputs": [],
   "source": [
    "def validateAndFitness(title):\n",
    "    #Example valid song: \n",
    "    # TRETTMANN FEAT. ALLI NEUMANN - ZEIT STEHT - PROD. KITSCHKRIEG (OFFICIAL VIDEO)\n",
    "    # TRETTMANN - GRAUER BETON (prod. KITSCHKRIEG) (OFFICIAL VIDEO)\n",
    "    # Major Lazer & DJ Snake - Lean On (feat. MØ) (Official Music Video)\n",
    "    # DJ Khaled - BODY IN MOTION (Official Lyric Video) ft. Bryson Tiller, Lil Baby, Roddy Ricch\n",
    "    #Evaluation\n",
    "    #   From searchArtist + 10\n",
    "    #   SearchArtist that is in feature + 7\n",
    "    #   produced from someone the artist was produced or someone the artist had a feature with +3,\n",
    "\n",
    "\n",
    "    fitness = 0\n",
    "    splitted = title.split(\"-\")\n",
    "    if len(splitted) != 2:\n",
    "        return fitness\n",
    "    artists = re.split('feat.|feature| x | & |ft.', splitted[0].lower())\n",
    "    \n",
    "    sA = False\n",
    "    \n",
    "    names = re.split('feat.|feature|ft.|\\(|prod.', splitted[1].lower(), maxsplit=1)\n",
    "    \n",
    "    artists = artists + re.split(\"feat.|feature| x | & |ft.|, |prod.|\\(\", names[1].lower())\n",
    "    \n",
    "    artists = [x for x in artists if \"official\" not in x]\n",
    "    \n",
    "    for count, item in enumerate(artists):\n",
    "        artists[count] = re.sub('\\)|\\(', '', artists[count]).strip()\n",
    "        if artists[count] in featuresAndProducers and not sA:\n",
    "            fitness = 3\n",
    "        if artists[count] == searchArtist.lower():\n",
    "            fitness = 7\n",
    "            sA = True\n",
    "\n",
    "    if artists[0] == searchArtist.lower():\n",
    "        fitness = 10\n",
    "        sA = True\n",
    "    \n",
    "    if sA:\n",
    "        for item in artists:\n",
    "            print(item)\n",
    "            if(item != \"\"):\n",
    "                featuresAndProducers.add(item)\n",
    "    \n",
    "    print(featuresAndProducers)\n",
    "    print(artists)\n",
    "    return fitness"
   ]
  },
  {
   "cell_type": "code",
   "execution_count": 74,
   "id": "2892dd6e",
   "metadata": {},
   "outputs": [
    {
     "name": "stdout",
     "output_type": "stream",
     "text": [
      "trettmann\n",
      "alli neumann\n",
      "\n",
      "kitschkrieg\n",
      "{'alli neumann', ' kitschkrieg) ', 'kitschkrieg', 'alli neumann ', 'trettmann'}\n",
      "['trettmann', 'alli neumann', '', 'kitschkrieg']\n",
      "10\n"
     ]
    }
   ],
   "source": [
    "test = \"TRETTMANN - GRAUER BETON (prod. KITSCHKRIEG) (OFFICIAL VIDEO)\"\n",
    "test = \"TRETTMANN & ALLI NEUMANN - ZEIT STEHT (PROD. KITSCHKRIEG) (OFFICIAL VIDEO)\"\n",
    "print(featuresAndProducers)\n",
    "print(validateAndFitness(test))\n",
    "#print(re.sub('\\)|\\(', '', \"(TEST)    \").strip())\n"
   ]
  },
  {
   "cell_type": "code",
   "execution_count": null,
   "id": "a3b9fd48",
   "metadata": {},
   "outputs": [],
   "source": []
  }
 ],
 "metadata": {
  "kernelspec": {
   "display_name": "Python 3",
   "language": "python",
   "name": "python3"
  },
  "language_info": {
   "codemirror_mode": {
    "name": "ipython",
    "version": 3
   },
   "file_extension": ".py",
   "mimetype": "text/x-python",
   "name": "python",
   "nbconvert_exporter": "python",
   "pygments_lexer": "ipython3",
   "version": "3.8.8"
  }
 },
 "nbformat": 4,
 "nbformat_minor": 5
}
